{
 "cells": [
  {
   "cell_type": "code",
   "execution_count": 23,
   "metadata": {},
   "outputs": [],
   "source": [
    "import pandas as pd\n",
    "\n",
    "pd.options.plotting.backend = 'plotly'\n",
    "\n",
    "import plotly.express as px\n",
    "import plotly.io as pio\n",
    "\n",
    "pio.renderers.default = 'notebook_connected'"
   ]
  },
  {
   "cell_type": "markdown",
   "metadata": {},
   "source": [
    "# =============================================\n",
    "# 데이터 로드\n",
    "# ============================================="
   ]
  },
  {
   "cell_type": "code",
   "execution_count": 7,
   "metadata": {},
   "outputs": [],
   "source": [
    "data_5 = pd.read_csv('./data/KRI-DAC_Jeju_data5.txt')\n",
    "data_6 = pd.read_csv('./data/KRI-DAC_Jeju_data6.txt')\n",
    "data_7 = pd.read_csv('./data/KRI-DAC_Jeju_data7.txt')\n",
    "data_8 = pd.read_csv('./data/KRI-DAC_Jeju_data8.txt')"
   ]
  },
  {
   "cell_type": "code",
   "execution_count": 9,
   "metadata": {},
   "outputs": [
    {
     "data": {
      "text/html": [
       "<div>\n",
       "<style scoped>\n",
       "    .dataframe tbody tr th:only-of-type {\n",
       "        vertical-align: middle;\n",
       "    }\n",
       "\n",
       "    .dataframe tbody tr th {\n",
       "        vertical-align: top;\n",
       "    }\n",
       "\n",
       "    .dataframe thead th {\n",
       "        text-align: right;\n",
       "    }\n",
       "</style>\n",
       "<table border=\"1\" class=\"dataframe\">\n",
       "  <thead>\n",
       "    <tr style=\"text-align: right;\">\n",
       "      <th></th>\n",
       "      <th>OBJECTID</th>\n",
       "      <th>Field1</th>\n",
       "      <th>YM</th>\n",
       "      <th>SIDO</th>\n",
       "      <th>SIGUNGU</th>\n",
       "      <th>FranClass</th>\n",
       "      <th>Type</th>\n",
       "      <th>Time</th>\n",
       "      <th>TotalSpent</th>\n",
       "      <th>DisSpent</th>\n",
       "      <th>NumofSpent</th>\n",
       "      <th>NumofDisSpent</th>\n",
       "      <th>POINT_X</th>\n",
       "      <th>POINT_Y</th>\n",
       "    </tr>\n",
       "  </thead>\n",
       "  <tbody>\n",
       "    <tr>\n",
       "      <th>0</th>\n",
       "      <td>1</td>\n",
       "      <td>1</td>\n",
       "      <td>202005</td>\n",
       "      <td>제주특별자치도</td>\n",
       "      <td>제주시</td>\n",
       "      <td>영세</td>\n",
       "      <td>일반한식</td>\n",
       "      <td>00시</td>\n",
       "      <td>363000</td>\n",
       "      <td>66500</td>\n",
       "      <td>10</td>\n",
       "      <td>2</td>\n",
       "      <td>877005.9834</td>\n",
       "      <td>1.479766e+06</td>\n",
       "    </tr>\n",
       "    <tr>\n",
       "      <th>1</th>\n",
       "      <td>2</td>\n",
       "      <td>2</td>\n",
       "      <td>202005</td>\n",
       "      <td>제주특별자치도</td>\n",
       "      <td>제주시</td>\n",
       "      <td>영세</td>\n",
       "      <td>단란주점</td>\n",
       "      <td>00시</td>\n",
       "      <td>1180000</td>\n",
       "      <td>0</td>\n",
       "      <td>3</td>\n",
       "      <td>0</td>\n",
       "      <td>877005.7447</td>\n",
       "      <td>1.479816e+06</td>\n",
       "    </tr>\n",
       "    <tr>\n",
       "      <th>2</th>\n",
       "      <td>3</td>\n",
       "      <td>3</td>\n",
       "      <td>202005</td>\n",
       "      <td>제주특별자치도</td>\n",
       "      <td>제주시</td>\n",
       "      <td>중소1</td>\n",
       "      <td>편의점</td>\n",
       "      <td>00시</td>\n",
       "      <td>157670</td>\n",
       "      <td>6850</td>\n",
       "      <td>20</td>\n",
       "      <td>2</td>\n",
       "      <td>877056.6756</td>\n",
       "      <td>1.479616e+06</td>\n",
       "    </tr>\n",
       "    <tr>\n",
       "      <th>3</th>\n",
       "      <td>4</td>\n",
       "      <td>4</td>\n",
       "      <td>202005</td>\n",
       "      <td>제주특별자치도</td>\n",
       "      <td>제주시</td>\n",
       "      <td>영세</td>\n",
       "      <td>편의점</td>\n",
       "      <td>00시</td>\n",
       "      <td>46600</td>\n",
       "      <td>0</td>\n",
       "      <td>2</td>\n",
       "      <td>0</td>\n",
       "      <td>877055.9593</td>\n",
       "      <td>1.479766e+06</td>\n",
       "    </tr>\n",
       "    <tr>\n",
       "      <th>4</th>\n",
       "      <td>5</td>\n",
       "      <td>5</td>\n",
       "      <td>202005</td>\n",
       "      <td>제주특별자치도</td>\n",
       "      <td>제주시</td>\n",
       "      <td>영세</td>\n",
       "      <td>주점</td>\n",
       "      <td>00시</td>\n",
       "      <td>66000</td>\n",
       "      <td>0</td>\n",
       "      <td>2</td>\n",
       "      <td>0</td>\n",
       "      <td>877055.4817</td>\n",
       "      <td>1.479866e+06</td>\n",
       "    </tr>\n",
       "    <tr>\n",
       "      <th>...</th>\n",
       "      <td>...</td>\n",
       "      <td>...</td>\n",
       "      <td>...</td>\n",
       "      <td>...</td>\n",
       "      <td>...</td>\n",
       "      <td>...</td>\n",
       "      <td>...</td>\n",
       "      <td>...</td>\n",
       "      <td>...</td>\n",
       "      <td>...</td>\n",
       "      <td>...</td>\n",
       "      <td>...</td>\n",
       "      <td>...</td>\n",
       "      <td>...</td>\n",
       "    </tr>\n",
       "    <tr>\n",
       "      <th>273178</th>\n",
       "      <td>273179</td>\n",
       "      <td>273179</td>\n",
       "      <td>202005</td>\n",
       "      <td>제주특별자치도</td>\n",
       "      <td>제주시</td>\n",
       "      <td>중소</td>\n",
       "      <td>침구수예점</td>\n",
       "      <td>x시</td>\n",
       "      <td>17000</td>\n",
       "      <td>0</td>\n",
       "      <td>1</td>\n",
       "      <td>0</td>\n",
       "      <td>949616.6171</td>\n",
       "      <td>1.502505e+06</td>\n",
       "    </tr>\n",
       "    <tr>\n",
       "      <th>273179</th>\n",
       "      <td>273180</td>\n",
       "      <td>273180</td>\n",
       "      <td>202005</td>\n",
       "      <td>제주특별자치도</td>\n",
       "      <td>제주시</td>\n",
       "      <td>중소1</td>\n",
       "      <td>서양음식</td>\n",
       "      <td>x시</td>\n",
       "      <td>12000</td>\n",
       "      <td>0</td>\n",
       "      <td>1</td>\n",
       "      <td>0</td>\n",
       "      <td>949665.1566</td>\n",
       "      <td>1.502805e+06</td>\n",
       "    </tr>\n",
       "    <tr>\n",
       "      <th>273180</th>\n",
       "      <td>273181</td>\n",
       "      <td>273181</td>\n",
       "      <td>202005</td>\n",
       "      <td>제주특별자치도</td>\n",
       "      <td>제주시</td>\n",
       "      <td>영세</td>\n",
       "      <td>편의점</td>\n",
       "      <td>x시</td>\n",
       "      <td>4800</td>\n",
       "      <td>0</td>\n",
       "      <td>1</td>\n",
       "      <td>0</td>\n",
       "      <td>950266.5976</td>\n",
       "      <td>1.502458e+06</td>\n",
       "    </tr>\n",
       "    <tr>\n",
       "      <th>273181</th>\n",
       "      <td>273182</td>\n",
       "      <td>273182</td>\n",
       "      <td>202005</td>\n",
       "      <td>제주특별자치도</td>\n",
       "      <td>제주시</td>\n",
       "      <td>중소</td>\n",
       "      <td>제과점</td>\n",
       "      <td>x시</td>\n",
       "      <td>25000</td>\n",
       "      <td>0</td>\n",
       "      <td>2</td>\n",
       "      <td>0</td>\n",
       "      <td>950524.6587</td>\n",
       "      <td>1.500760e+06</td>\n",
       "    </tr>\n",
       "    <tr>\n",
       "      <th>273182</th>\n",
       "      <td>273183</td>\n",
       "      <td>273183</td>\n",
       "      <td>202005</td>\n",
       "      <td>제주특별자치도</td>\n",
       "      <td>제주시</td>\n",
       "      <td>영세</td>\n",
       "      <td>서양음식</td>\n",
       "      <td>x시</td>\n",
       "      <td>6000</td>\n",
       "      <td>0</td>\n",
       "      <td>1</td>\n",
       "      <td>0</td>\n",
       "      <td>950674.5989</td>\n",
       "      <td>1.500760e+06</td>\n",
       "    </tr>\n",
       "  </tbody>\n",
       "</table>\n",
       "<p>273183 rows × 14 columns</p>\n",
       "</div>"
      ],
      "text/plain": [
       "        OBJECTID  Field1      YM     SIDO SIGUNGU FranClass   Type Time  \\\n",
       "0              1       1  202005  제주특별자치도     제주시        영세   일반한식  00시   \n",
       "1              2       2  202005  제주특별자치도     제주시        영세   단란주점  00시   \n",
       "2              3       3  202005  제주특별자치도     제주시       중소1    편의점  00시   \n",
       "3              4       4  202005  제주특별자치도     제주시        영세    편의점  00시   \n",
       "4              5       5  202005  제주특별자치도     제주시        영세     주점  00시   \n",
       "...          ...     ...     ...      ...     ...       ...    ...  ...   \n",
       "273178    273179  273179  202005  제주특별자치도     제주시        중소  침구수예점   x시   \n",
       "273179    273180  273180  202005  제주특별자치도     제주시       중소1   서양음식   x시   \n",
       "273180    273181  273181  202005  제주특별자치도     제주시        영세    편의점   x시   \n",
       "273181    273182  273182  202005  제주특별자치도     제주시        중소    제과점   x시   \n",
       "273182    273183  273183  202005  제주특별자치도     제주시        영세   서양음식   x시   \n",
       "\n",
       "        TotalSpent  DisSpent  NumofSpent  NumofDisSpent      POINT_X  \\\n",
       "0           363000     66500          10              2  877005.9834   \n",
       "1          1180000         0           3              0  877005.7447   \n",
       "2           157670      6850          20              2  877056.6756   \n",
       "3            46600         0           2              0  877055.9593   \n",
       "4            66000         0           2              0  877055.4817   \n",
       "...            ...       ...         ...            ...          ...   \n",
       "273178       17000         0           1              0  949616.6171   \n",
       "273179       12000         0           1              0  949665.1566   \n",
       "273180        4800         0           1              0  950266.5976   \n",
       "273181       25000         0           2              0  950524.6587   \n",
       "273182        6000         0           1              0  950674.5989   \n",
       "\n",
       "             POINT_Y  \n",
       "0       1.479766e+06  \n",
       "1       1.479816e+06  \n",
       "2       1.479616e+06  \n",
       "3       1.479766e+06  \n",
       "4       1.479866e+06  \n",
       "...              ...  \n",
       "273178  1.502505e+06  \n",
       "273179  1.502805e+06  \n",
       "273180  1.502458e+06  \n",
       "273181  1.500760e+06  \n",
       "273182  1.500760e+06  \n",
       "\n",
       "[273183 rows x 14 columns]"
      ]
     },
     "execution_count": 9,
     "metadata": {},
     "output_type": "execute_result"
    }
   ],
   "source": [
    "data_5"
   ]
  },
  {
   "cell_type": "markdown",
   "metadata": {},
   "source": [
    "# =============================================\n",
    "# 데이터 확인\n",
    "# ============================================="
   ]
  },
  {
   "cell_type": "markdown",
   "metadata": {},
   "source": [
    "## 데이터 정의\n",
    "    - YM : 기준년월\n",
    "    - SIDO : 지역대분류명\n",
    "    - SIGUNGU : 지역중분류명\n",
    "    - FranClass : 소상공인구분\n",
    "    - Type : 업종명\n",
    "    - Time : 시간대(x는 무승인거래, 2~6 새벽, 6~11 오전, 11~15 점심, 15~18 오후, 18~22 저녁, 22~02 심야)\n",
    "    - TotalSpent : 총사용금액(재난지원금 사용금액을 포함한 금액)\n",
    "    - DisSpent : 재난지원금 사용금액\n",
    "    - NumOfSpent : 총 이용건수\n",
    "    - NumOfDisSpent : 총 재난지원금 이용건수\n",
    "    - POINT_X, POINT_Y : X,Y 좌표"
   ]
  },
  {
   "cell_type": "code",
   "execution_count": 10,
   "metadata": {},
   "outputs": [
    {
     "data": {
      "text/plain": [
       "array(['제주특별자치도'], dtype=object)"
      ]
     },
     "execution_count": 10,
     "metadata": {},
     "output_type": "execute_result"
    }
   ],
   "source": [
    "data_5['SIDO'].unique()"
   ]
  },
  {
   "cell_type": "code",
   "execution_count": 11,
   "metadata": {},
   "outputs": [
    {
     "data": {
      "text/plain": [
       "array(['제주시', '서귀포시'], dtype=object)"
      ]
     },
     "execution_count": 11,
     "metadata": {},
     "output_type": "execute_result"
    }
   ],
   "source": [
    "data_5['SIGUNGU'].unique()"
   ]
  },
  {
   "cell_type": "code",
   "execution_count": 12,
   "metadata": {},
   "outputs": [
    {
     "data": {
      "text/plain": [
       "array(['영세', '중소1', '중소', '중소2', '일반'], dtype=object)"
      ]
     },
     "execution_count": 12,
     "metadata": {},
     "output_type": "execute_result"
    }
   ],
   "source": [
    "data_5['FranClass'].unique()"
   ]
  },
  {
   "cell_type": "code",
   "execution_count": 13,
   "metadata": {},
   "outputs": [
    {
     "data": {
      "text/plain": [
       "array(['일반한식', '단란주점', '편의점', '주점', '스넥', '서양음식', '일식회집', '기타음료식품', '노래방',\n",
       "       '중국음식', '슈퍼마켓', '유흥주점', '기타숙박업', '기타레져업', '당구장', '농축수산품', '유아원',\n",
       "       '골프경기장', '세탁소', '가방', '콘도', '주차장', '문화취미기타', '주유소', '사무서비스',\n",
       "       '자동차정비', '특급호텔', '볼링장', '화장품', '기타회원제형태업소', '주류판매점', '제과점',\n",
       "       '피부미용실', '약국', '칵테일바', '정육점', '독서실', '스포츠레져용품', '골프용품', 'LPG',\n",
       "       '종합병원', '사우나', '화원', '의원', '안마스포츠마사지', '골프연습장', '2급호텔', '기타대인서비스',\n",
       "       '보습학원', '부동산분양', '화물운송', '애완동물', '동물병원', '대형할인점', '인터넷Mall', '항공사',\n",
       "       '헬스크럽', '기타유통업', '레져용품수리', '정장', '레져업소(회원제형태)', '관광여행', '1급호텔',\n",
       "       '침구수예점', '사진관', '악세사리', '보관창고업', '기념품점', '미용원', '영화관', '의료용품',\n",
       "       '세차장', '인터넷종합Mall', '기타잡화', '성인용품점', '상품권', '종합용역', '기계공구',\n",
       "       '조세서비스', '택시', '기타의료기관및기기', '가례서비스', '구내매점', '수영장', '목재석재철물',\n",
       "       '건축요업품', '기타업종', '렌트카', '종합레져타운', '유류판매', '농축협직영매장', '기타건축자재',\n",
       "       '비료농약사료종자', '농기계', '보일러펌프', '가전제품', '스포츠의류', '페인트', '미곡상',\n",
       "       '기타농업관련', '기타가구', '공공요금', '기능학원', '면세점', '기타교육', '위탁급식업', '이용원',\n",
       "       '조명기구', '문구용품', '인테리어', '민예공예품', '기타연료', '자동차부품', '기타용역서비스',\n",
       "       '기타운송', '연쇄점', '옷감직물', '한의원', '주방용식기', '카인테리어', '기타수리서비스',\n",
       "       '농협하나로클럽', '기타건강식', '티켓', '기타전기제품', '일반서적', '외국어학원', '건강진단',\n",
       "       '냉열기기', '소프트웨어', '내의판매점', '주방용구', '완구점', '유리', '자동차시트타이어',\n",
       "       '카페트커텐천막', '기타교통수단', '테니스장', '치과의원', '신발', '기타의류', '컴퓨터', '병원',\n",
       "       '가정용품수리', '단체복', '아동의류', '일반가구', '출판인쇄물', '치과병원', '서적출판(회원제형태)',\n",
       "       '카메라', '정수기', 'CATV', '기타사무용', '학원(회원제형태)', '이륜차판매', '철제가구',\n",
       "       '산후조리원', '견인서비스', '수족관', '양품점', '시계', '안경', '인삼제품', '홍삼제품', '한약방',\n",
       "       '중장비수리', '캐쥬얼의류', '과학기자재', '윤활유전문판매', '부동산중개임대', '여객선', '통신기기',\n",
       "       '귀금속', '건강식품(회원제형태)', '사무기기', '신변잡화수리', '미용재료', '예체능학원', '기타보험',\n",
       "       '사무통신기기수리', '법률회계서비스', '맞춤복점', '전문서적', '화방표구점', '손해보험', '악기점',\n",
       "       '기타자동차서비스', '정기간행물', '기타비영리유통', '화랑', '컴퓨터학원', '중고자동차', '제화점',\n",
       "       '대학등록금', '기타서적문구', '학습지교육', '수입자동차', '기타직물', 'DVD음반테이프판매', '기타광학품',\n",
       "       '제약회사', '초중고교육기관', '사무서비스(회원제형태)', '골동품점'], dtype=object)"
      ]
     },
     "execution_count": 13,
     "metadata": {},
     "output_type": "execute_result"
    }
   ],
   "source": [
    "data_5['Type'].unique()"
   ]
  },
  {
   "cell_type": "code",
   "execution_count": 15,
   "metadata": {},
   "outputs": [
    {
     "data": {
      "text/plain": [
       "array(['00시', '01시', '02시', '03시', '04시', '05시', '06시', '07시', '08시',\n",
       "       '09시', '10시', '11시', '12시', '13시', '14시', '15시', '16시', '17시',\n",
       "       '18시', '19시', '20시', '21시', '22시', '23시', 'x시'], dtype=object)"
      ]
     },
     "execution_count": 15,
     "metadata": {},
     "output_type": "execute_result"
    }
   ],
   "source": [
    "data_5['Time'].unique()"
   ]
  },
  {
   "cell_type": "code",
   "execution_count": 17,
   "metadata": {},
   "outputs": [
    {
     "name": "stdout",
     "output_type": "stream",
     "text": [
      "768266465\n",
      "1\n"
     ]
    }
   ],
   "source": [
    "print(data_5['TotalSpent'].max())\n",
    "print(data_5['TotalSpent'].min())"
   ]
  },
  {
   "cell_type": "code",
   "execution_count": 18,
   "metadata": {},
   "outputs": [
    {
     "name": "stdout",
     "output_type": "stream",
     "text": [
      "68372220\n",
      "-650000\n"
     ]
    }
   ],
   "source": [
    "print(data_5['DisSpent'].max())\n",
    "print(data_5['DisSpent'].min())"
   ]
  },
  {
   "cell_type": "code",
   "execution_count": 21,
   "metadata": {},
   "outputs": [
    {
     "name": "stdout",
     "output_type": "stream",
     "text": [
      "9149\n",
      "1\n"
     ]
    }
   ],
   "source": [
    "print(data_5['NumofSpent'].max())\n",
    "print(data_5['NumofSpent'].min())"
   ]
  },
  {
   "cell_type": "code",
   "execution_count": 22,
   "metadata": {},
   "outputs": [
    {
     "name": "stdout",
     "output_type": "stream",
     "text": [
      "1025\n",
      "-1\n"
     ]
    }
   ],
   "source": [
    "print(data_5['NumofDisSpent'].max())\n",
    "print(data_5['NumofDisSpent'].min())"
   ]
  },
  {
   "cell_type": "markdown",
   "metadata": {},
   "source": [
    "# =============================================\n",
    "# 지도에 표시 using plotly\n",
    "# ============================================="
   ]
  },
  {
   "cell_type": "code",
   "execution_count": 25,
   "metadata": {},
   "outputs": [],
   "source": [
    "fig = px.scatter_mapbox(data_5, # data frame 지정\n",
    "                        lat='POINT_Y', lon=\"POINT_X\", # 위도 경도 지정\n",
    "                        hover_name=\"Type\", hover_data=[\"SIGUNGU\", \"FranClass\", \"Time\", \"TotalSpent\", \"DisSpent\"], # 추가로 보여줄 데이터 지정\n",
    "                        color_discrete_sequence=[\"fuchsia\"], # 컬러 지정, 링크 참고 : https://plotly.com/python/discrete-color\n",
    "                        zoom = 5, height = 400\n",
    "                       )"
   ]
  },
  {
   "cell_type": "code",
   "execution_count": 27,
   "metadata": {},
   "outputs": [],
   "source": [
    "fig.update_layout(mapbox_style=\"open-street-map\", \n",
    "                 margin={\"r\":0, \"t\":0, \"l\":0, \"b\":0}\n",
    "                 )"
   ]
  },
  {
   "cell_type": "code",
   "execution_count": null,
   "metadata": {},
   "outputs": [],
   "source": [
    "fig.show()"
   ]
  },
  {
   "cell_type": "markdown",
   "metadata": {},
   "source": [
    "# =============================================\n",
    "# \n",
    "# ============================================="
   ]
  },
  {
   "cell_type": "code",
   "execution_count": null,
   "metadata": {},
   "outputs": [],
   "source": []
  },
  {
   "cell_type": "markdown",
   "metadata": {},
   "source": [
    "# =============================================\n",
    "# \n",
    "# ============================================="
   ]
  },
  {
   "cell_type": "code",
   "execution_count": null,
   "metadata": {},
   "outputs": [],
   "source": []
  }
 ],
 "metadata": {
  "kernelspec": {
   "display_name": "Python 3",
   "language": "python",
   "name": "python3"
  },
  "language_info": {
   "codemirror_mode": {
    "name": "ipython",
    "version": 3
   },
   "file_extension": ".py",
   "mimetype": "text/x-python",
   "name": "python",
   "nbconvert_exporter": "python",
   "pygments_lexer": "ipython3",
   "version": "3.6.10"
  }
 },
 "nbformat": 4,
 "nbformat_minor": 4
}
