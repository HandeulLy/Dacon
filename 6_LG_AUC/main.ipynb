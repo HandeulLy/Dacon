{
 "cells": [
  {
   "cell_type": "markdown",
   "metadata": {},
   "source": [
    "# 목차\n",
    "## 1. Library Import\n",
    "## 2. 학습데이터 생성\n",
    "## 3. Light-gbm 모델 훈련\n",
    "## 4. 교차 검증 점수 확인\n",
    "## 5. 제출 파일 생성"
   ]
  },
  {
   "cell_type": "markdown",
   "metadata": {},
   "source": [
    "## 1. Library Import"
   ]
  },
  {
   "cell_type": "code",
   "execution_count": 1,
   "metadata": {},
   "outputs": [],
   "source": [
    "import pandas as pd\n",
    "import numpy as np\n",
    "import datetime as dt\n",
    "import matplotlib.pyplot as plt\n",
    "from tqdm import tqdm\n",
    "import gc\n",
    "import random\n",
    "import lightgbm as lgb\n",
    "import re\n",
    "from sklearn.metrics import *\n",
    "from sklearn.model_selection import KFold\n",
    "import warnings\n",
    "warnings.filterwarnings(action='ignore')"
   ]
  },
  {
   "cell_type": "code",
   "execution_count": 2,
   "metadata": {},
   "outputs": [],
   "source": [
    "# 필요한 함수 정의\n",
    "def make_datetime(x):\n",
    "    # string 타입의 Time column을 datetime 타입으로 변경\n",
    "    x     = str(x)\n",
    "    year  = int(x[:4])\n",
    "    month = int(x[4:6])\n",
    "    day   = int(x[6:8])\n",
    "    hour  = int(x[8:10])\n",
    "    #mim  = int(x[10:12])\n",
    "    #sec  = int(x[12:])\n",
    "    return dt.datetime(year, month, day, hour)\n",
    "\n",
    "def string2num(x):\n",
    "    # (,)( )과 같은 불필요한 데이터 정제\n",
    "    x = re.sub(r\"[^0-9]+\", '', str(x))\n",
    "    if x =='':\n",
    "        return 0\n",
    "    else:\n",
    "        return int(x)"
   ]
  },
  {
   "cell_type": "markdown",
   "metadata": {},
   "source": [
    "## 2. 학습데이터 생성"
   ]
  },
  {
   "cell_type": "markdown",
   "metadata": {},
   "source": [
    "#### 2.1. train_err\n",
    "\n",
    "* train_err_data.csv 파일의 errtype column의 value_counts를 카운트하여 학습에 사용.\n",
    "* 주어진 기간동안 user_id별로 peroblem가 한 번이라도 발생했는 지를 확인."
   ]
  },
  {
   "cell_type": "code",
   "execution_count": 3,
   "metadata": {},
   "outputs": [
    {
     "data": {
      "text/html": [
       "<div>\n",
       "<style scoped>\n",
       "    .dataframe tbody tr th:only-of-type {\n",
       "        vertical-align: middle;\n",
       "    }\n",
       "\n",
       "    .dataframe tbody tr th {\n",
       "        vertical-align: top;\n",
       "    }\n",
       "\n",
       "    .dataframe thead th {\n",
       "        text-align: right;\n",
       "    }\n",
       "</style>\n",
       "<table border=\"1\" class=\"dataframe\">\n",
       "  <thead>\n",
       "    <tr style=\"text-align: right;\">\n",
       "      <th></th>\n",
       "      <th>user_id</th>\n",
       "      <th>time</th>\n",
       "      <th>model_nm</th>\n",
       "      <th>fwver</th>\n",
       "      <th>errtype</th>\n",
       "      <th>errcode</th>\n",
       "    </tr>\n",
       "  </thead>\n",
       "  <tbody>\n",
       "    <tr>\n",
       "      <th>0</th>\n",
       "      <td>10000</td>\n",
       "      <td>20201101025616</td>\n",
       "      <td>model_3</td>\n",
       "      <td>05.15.2138</td>\n",
       "      <td>15</td>\n",
       "      <td>1</td>\n",
       "    </tr>\n",
       "    <tr>\n",
       "      <th>1</th>\n",
       "      <td>10000</td>\n",
       "      <td>20201101030309</td>\n",
       "      <td>model_3</td>\n",
       "      <td>05.15.2138</td>\n",
       "      <td>12</td>\n",
       "      <td>1</td>\n",
       "    </tr>\n",
       "    <tr>\n",
       "      <th>2</th>\n",
       "      <td>10000</td>\n",
       "      <td>20201101030309</td>\n",
       "      <td>model_3</td>\n",
       "      <td>05.15.2138</td>\n",
       "      <td>11</td>\n",
       "      <td>1</td>\n",
       "    </tr>\n",
       "    <tr>\n",
       "      <th>3</th>\n",
       "      <td>10000</td>\n",
       "      <td>20201101050514</td>\n",
       "      <td>model_3</td>\n",
       "      <td>05.15.2138</td>\n",
       "      <td>16</td>\n",
       "      <td>1</td>\n",
       "    </tr>\n",
       "    <tr>\n",
       "      <th>4</th>\n",
       "      <td>10000</td>\n",
       "      <td>20201101050515</td>\n",
       "      <td>model_3</td>\n",
       "      <td>05.15.2138</td>\n",
       "      <td>4</td>\n",
       "      <td>0</td>\n",
       "    </tr>\n",
       "  </tbody>\n",
       "</table>\n",
       "</div>"
      ],
      "text/plain": [
       "   user_id            time model_nm       fwver  errtype errcode\n",
       "0    10000  20201101025616  model_3  05.15.2138       15       1\n",
       "1    10000  20201101030309  model_3  05.15.2138       12       1\n",
       "2    10000  20201101030309  model_3  05.15.2138       11       1\n",
       "3    10000  20201101050514  model_3  05.15.2138       16       1\n",
       "4    10000  20201101050515  model_3  05.15.2138        4       0"
      ]
     },
     "execution_count": 3,
     "metadata": {},
     "output_type": "execute_result"
    }
   ],
   "source": [
    "PATH = './data/'\n",
    "\n",
    "train_err = pd.read_csv(PATH+'train_err_data.csv')\n",
    "train_err.head()"
   ]
  },
  {
   "cell_type": "code",
   "execution_count": 4,
   "metadata": {},
   "outputs": [
    {
     "data": {
      "text/html": [
       "<div>\n",
       "<style scoped>\n",
       "    .dataframe tbody tr th:only-of-type {\n",
       "        vertical-align: middle;\n",
       "    }\n",
       "\n",
       "    .dataframe tbody tr th {\n",
       "        vertical-align: top;\n",
       "    }\n",
       "\n",
       "    .dataframe thead th {\n",
       "        text-align: right;\n",
       "    }\n",
       "</style>\n",
       "<table border=\"1\" class=\"dataframe\">\n",
       "  <thead>\n",
       "    <tr style=\"text-align: right;\">\n",
       "      <th></th>\n",
       "      <th>user_id</th>\n",
       "      <th>time</th>\n",
       "      <th>model_nm</th>\n",
       "      <th>fwver</th>\n",
       "      <th>errtype</th>\n",
       "      <th>errcode</th>\n",
       "    </tr>\n",
       "  </thead>\n",
       "  <tbody>\n",
       "    <tr>\n",
       "      <th>0</th>\n",
       "      <td>10000</td>\n",
       "      <td>20201101025616</td>\n",
       "      <td>model_3</td>\n",
       "      <td>05.15.2138</td>\n",
       "      <td>15</td>\n",
       "      <td>1</td>\n",
       "    </tr>\n",
       "    <tr>\n",
       "      <th>1</th>\n",
       "      <td>10000</td>\n",
       "      <td>20201101030309</td>\n",
       "      <td>model_3</td>\n",
       "      <td>05.15.2138</td>\n",
       "      <td>12</td>\n",
       "      <td>1</td>\n",
       "    </tr>\n",
       "    <tr>\n",
       "      <th>2</th>\n",
       "      <td>10000</td>\n",
       "      <td>20201101030309</td>\n",
       "      <td>model_3</td>\n",
       "      <td>05.15.2138</td>\n",
       "      <td>11</td>\n",
       "      <td>1</td>\n",
       "    </tr>\n",
       "    <tr>\n",
       "      <th>3</th>\n",
       "      <td>10000</td>\n",
       "      <td>20201101050514</td>\n",
       "      <td>model_3</td>\n",
       "      <td>05.15.2138</td>\n",
       "      <td>16</td>\n",
       "      <td>1</td>\n",
       "    </tr>\n",
       "    <tr>\n",
       "      <th>4</th>\n",
       "      <td>10000</td>\n",
       "      <td>20201101050515</td>\n",
       "      <td>model_3</td>\n",
       "      <td>05.15.2138</td>\n",
       "      <td>4</td>\n",
       "      <td>0</td>\n",
       "    </tr>\n",
       "  </tbody>\n",
       "</table>\n",
       "</div>"
      ],
      "text/plain": [
       "   user_id            time model_nm       fwver  errtype errcode\n",
       "0    10000  20201101025616  model_3  05.15.2138       15       1\n",
       "1    10000  20201101030309  model_3  05.15.2138       12       1\n",
       "2    10000  20201101030309  model_3  05.15.2138       11       1\n",
       "3    10000  20201101050514  model_3  05.15.2138       16       1\n",
       "4    10000  20201101050515  model_3  05.15.2138        4       0"
      ]
     },
     "metadata": {},
     "output_type": "display_data"
    }
   ],
   "source": [
    "# 데이터 설명을 확인하면\n",
    "# ueser_id가 10000부터 24999까지 총 15000개가 연속적으로 존재.\n",
    "display(train_err.head())\n",
    "train_user_id_max = 24999\n",
    "train_user_id_min = 10000\n",
    "train_user_number = 15000"
   ]
  },
  {
   "cell_type": "code",
   "execution_count": 5,
   "metadata": {},
   "outputs": [
    {
     "name": "stdout",
     "output_type": "stream",
     "text": [
      "[ 1  2  3  4  5  6  7  8  9 10 11 12 13 14 15 16 17 18 19 20 21 22 23 24\n",
      " 25 26 27 28 30 31 32 33 34 35 36 37 38 39 40 41 42]\n"
     ]
    }
   ],
   "source": [
    "print(np.sort(train_err.errtype.unique()))\n",
    "# errtype이 1부터 42까지 29를 제외한 41개가 존재."
   ]
  },
  {
   "cell_type": "code",
   "execution_count": 6,
   "metadata": {},
   "outputs": [
    {
     "name": "stderr",
     "output_type": "stream",
     "text": [
      "100%|██████████| 16554663/16554663 [00:59<00:00, 278364.95it/s]\n"
     ]
    },
    {
     "data": {
      "text/plain": [
       "(15000, 42)"
      ]
     },
     "execution_count": 6,
     "metadata": {},
     "output_type": "execute_result"
    }
   ],
   "source": [
    "# user_id와 errtype만을 사용하여 데이터 셋 생성\n",
    "# 모든 일자에 대해서 errtype별 발생 건수를 count\n",
    "# pandas의 groupby를 활용할 경우 큰 연산 자원이 필요.\n",
    "# numpy로 placeholder를 만들어 구현함.\n",
    "id_error = train_err[['user_id','errtype']].values\n",
    "error = np.zeros((train_user_number,42))\n",
    "\n",
    "for person_idx, err in tqdm(id_error):\n",
    "    # person_idx - train_user_id_min 위치에 person_idx, errtype에 해당하는 error값을 +1\n",
    "    error[person_idx - train_user_id_min,err - 1] += 1\n",
    "error.shape"
   ]
  },
  {
   "cell_type": "code",
   "execution_count": 8,
   "metadata": {},
   "outputs": [
    {
     "data": {
      "text/plain": [
       "\"\\ntrain_err             = pd.read_csv(PATH+'train_err_data.csv')\\ntrain_err['datetime'] = train_err['time'].apply(make_datetime)\\n\\nmin_day = train_err.datetime.min().date()\\n\\ntrain_err['days'] = train_err.loc[:,'datetime'].dt.date - min_day\\ntrain_err['days'] = train_err['days'].dt.days\\ndisplay(train_err)\\n\\nid_error = train_err[['user_id','errtype','days']].values\\nerror = np.zeros((train_user_number,42, 33))\\nfor idx, err, days in tqdm(id_error):\\n    error[idx - train_user_id_min,err - 1, days] += 1\\nerror.shape\\n\""
      ]
     },
     "execution_count": 8,
     "metadata": {},
     "output_type": "execute_result"
    }
   ],
   "source": [
    "#참고) 일별 합산 데이터 생성 코드      \n",
    "'''\n",
    "train_err             = pd.read_csv(PATH+'train_err_data.csv')\n",
    "train_err['datetime'] = train_err['time'].apply(make_datetime)\n",
    "\n",
    "min_day = train_err.datetime.min().date()\n",
    "\n",
    "train_err['days'] = train_err.loc[:,'datetime'].dt.date - min_day\n",
    "train_err['days'] = train_err['days'].dt.days\n",
    "display(train_err)\n",
    "\n",
    "id_error = train_err[['user_id','errtype','days']].values\n",
    "error = np.zeros((train_user_number,42, 33))\n",
    "for idx, err, days in tqdm(id_error):\n",
    "    error[idx - train_user_id_min,err - 1, days] += 1\n",
    "error.shape\n",
    "'''"
   ]
  },
  {
   "cell_type": "markdown",
   "metadata": {},
   "source": [
    "#### 2.2. problem"
   ]
  },
  {
   "cell_type": "code",
   "execution_count": 7,
   "metadata": {},
   "outputs": [
    {
     "data": {
      "text/plain": [
       "(15000,)"
      ]
     },
     "execution_count": 7,
     "metadata": {},
     "output_type": "execute_result"
    }
   ],
   "source": [
    "train_prob = pd.read_csv(PATH+'train_problem_data.csv')\n",
    "problem = np.zeros(15000)\n",
    "# error와 동일한 방법으로 person_idx - 10000 위치에 \n",
    "# person_idx의 problem이 한 번이라도 발생했다면 1\n",
    "# 없다면 0\n",
    "problem[train_prob.user_id.unique()-10000] = 1 \n",
    "problem.shape"
   ]
  },
  {
   "cell_type": "markdown",
   "metadata": {},
   "source": [
    "## 3. Light-gbm 모델 훈련"
   ]
  },
  {
   "cell_type": "code",
   "execution_count": 16,
   "metadata": {},
   "outputs": [
    {
     "name": "stdout",
     "output_type": "stream",
     "text": [
      "(15000, 42)\n",
      "(15000,)\n"
     ]
    }
   ],
   "source": [
    "# 변수 이름 변경\n",
    "# error  -> train_x\n",
    "# problem-> train_y\n",
    "\n",
    "train_x = error\n",
    "train_y = problem\n",
    "del error, problem\n",
    "print(train_x.shape)\n",
    "print(train_y.shape)"
   ]
  },
  {
   "cell_type": "code",
   "execution_count": 17,
   "metadata": {},
   "outputs": [],
   "source": [
    "# Train\n",
    "\n",
    "# validation auc score를 확인하기 위해 정의\n",
    "def f_pr_auc(probas_pred, y_true):\n",
    "    labels=y_true.get_label()\n",
    "    p, r, _ = precision_recall_curve(labels, probas_pred)\n",
    "    score=auc(r,p) \n",
    "    return \"pr_auc\", score, True\n",
    "\n",
    "models     = []\n",
    "recalls    = []\n",
    "precisions = []\n",
    "auc_scores   = []\n",
    "threshold = 0.5"
   ]
  },
  {
   "cell_type": "code",
   "execution_count": 27,
   "metadata": {},
   "outputs": [],
   "source": [
    "# 파라미터 설정\n",
    "\n",
    "# ref url. https://nurilee.com/2020/04/03/lightgbm-definition-parameter-tuning/\n",
    "\n",
    "params =      {\n",
    "                'boosting_type' : 'dart',\n",
    "                'objective'     : 'binary',\n",
    "                'metric'        : 'auc',\n",
    "                'seed': 1015\n",
    "                }"
   ]
  },
  {
   "cell_type": "code",
   "execution_count": 29,
   "metadata": {
    "scrolled": true
   },
   "outputs": [
    {
     "name": "stdout",
     "output_type": "stream",
     "text": [
      "[200]\tvalid_0's auc: 0.802553\tvalid_0's pr_auc: 0.799102\n",
      "[400]\tvalid_0's auc: 0.800252\tvalid_0's pr_auc: 0.793796\n",
      "[600]\tvalid_0's auc: 0.797233\tvalid_0's pr_auc: 0.791374\n",
      "[800]\tvalid_0's auc: 0.794428\tvalid_0's pr_auc: 0.789994\n",
      "[1000]\tvalid_0's auc: 0.792123\tvalid_0's pr_auc: 0.788219\n",
      "[1200]\tvalid_0's auc: 0.790824\tvalid_0's pr_auc: 0.787122\n",
      "[1400]\tvalid_0's auc: 0.786919\tvalid_0's pr_auc: 0.785524\n",
      "[1600]\tvalid_0's auc: 0.785297\tvalid_0's pr_auc: 0.785122\n",
      "[1800]\tvalid_0's auc: 0.782444\tvalid_0's pr_auc: 0.784006\n",
      "[2000]\tvalid_0's auc: 0.779536\tvalid_0's pr_auc: 0.782703\n",
      "==========================================================\n",
      "[200]\tvalid_0's auc: 0.806186\tvalid_0's pr_auc: 0.343844\n",
      "[400]\tvalid_0's auc: 0.807478\tvalid_0's pr_auc: 0.342261\n",
      "[600]\tvalid_0's auc: 0.807434\tvalid_0's pr_auc: 0.343819\n",
      "[800]\tvalid_0's auc: 0.804217\tvalid_0's pr_auc: 0.33816\n",
      "[1000]\tvalid_0's auc: 0.802428\tvalid_0's pr_auc: 0.34627\n",
      "[1200]\tvalid_0's auc: 0.802221\tvalid_0's pr_auc: 0.340311\n",
      "[1400]\tvalid_0's auc: 0.803084\tvalid_0's pr_auc: 0.333172\n",
      "[1600]\tvalid_0's auc: 0.798855\tvalid_0's pr_auc: 0.332726\n",
      "[1800]\tvalid_0's auc: 0.798855\tvalid_0's pr_auc: 0.339268\n",
      "[2000]\tvalid_0's auc: 0.79777\tvalid_0's pr_auc: 0.345826\n",
      "==========================================================\n",
      "[200]\tvalid_0's auc: 0.781704\tvalid_0's pr_auc: 0.398897\n",
      "[400]\tvalid_0's auc: 0.782184\tvalid_0's pr_auc: 0.404982\n",
      "[600]\tvalid_0's auc: 0.777934\tvalid_0's pr_auc: 0.39983\n",
      "[800]\tvalid_0's auc: 0.780142\tvalid_0's pr_auc: 0.410412\n",
      "[1000]\tvalid_0's auc: 0.777347\tvalid_0's pr_auc: 0.402722\n",
      "[1200]\tvalid_0's auc: 0.774403\tvalid_0's pr_auc: 0.39858\n",
      "[1400]\tvalid_0's auc: 0.771346\tvalid_0's pr_auc: 0.397255\n",
      "[1600]\tvalid_0's auc: 0.767181\tvalid_0's pr_auc: 0.394272\n",
      "[1800]\tvalid_0's auc: 0.76486\tvalid_0's pr_auc: 0.395894\n",
      "[2000]\tvalid_0's auc: 0.765128\tvalid_0's pr_auc: 0.394962\n",
      "==========================================================\n",
      "[200]\tvalid_0's auc: 0.815005\tvalid_0's pr_auc: 0.544697\n",
      "[400]\tvalid_0's auc: 0.816747\tvalid_0's pr_auc: 0.538573\n",
      "[600]\tvalid_0's auc: 0.816824\tvalid_0's pr_auc: 0.551063\n",
      "[800]\tvalid_0's auc: 0.813402\tvalid_0's pr_auc: 0.554673\n",
      "[1000]\tvalid_0's auc: 0.810697\tvalid_0's pr_auc: 0.554547\n",
      "[1200]\tvalid_0's auc: 0.809559\tvalid_0's pr_auc: 0.551468\n",
      "[1400]\tvalid_0's auc: 0.807317\tvalid_0's pr_auc: 0.541775\n",
      "[1600]\tvalid_0's auc: 0.804779\tvalid_0's pr_auc: 0.539285\n",
      "[1800]\tvalid_0's auc: 0.802157\tvalid_0's pr_auc: 0.536288\n",
      "[2000]\tvalid_0's auc: 0.800687\tvalid_0's pr_auc: 0.538969\n",
      "==========================================================\n",
      "[200]\tvalid_0's auc: 0.812756\tvalid_0's pr_auc: 0.975051\n",
      "[400]\tvalid_0's auc: 0.811218\tvalid_0's pr_auc: 0.975251\n",
      "[600]\tvalid_0's auc: 0.807274\tvalid_0's pr_auc: 0.974866\n",
      "[800]\tvalid_0's auc: 0.80286\tvalid_0's pr_auc: 0.974546\n",
      "[1000]\tvalid_0's auc: 0.798592\tvalid_0's pr_auc: 0.973951\n",
      "[1200]\tvalid_0's auc: 0.794899\tvalid_0's pr_auc: 0.973435\n",
      "[1400]\tvalid_0's auc: 0.789654\tvalid_0's pr_auc: 0.972894\n",
      "[1600]\tvalid_0's auc: 0.78536\tvalid_0's pr_auc: 0.972408\n",
      "[1800]\tvalid_0's auc: 0.782961\tvalid_0's pr_auc: 0.972378\n",
      "[2000]\tvalid_0's auc: 0.780429\tvalid_0's pr_auc: 0.972108\n",
      "==========================================================\n"
     ]
    }
   ],
   "source": [
    "# 5 Kfold cross validation\n",
    "k_fold = KFold(n_splits=5, shuffle=True, random_state=42)\n",
    "\n",
    "for train_idx, val_idx in k_fold.split(train_x):\n",
    "\n",
    "    # split train, validation set\n",
    "    X = train_x[train_idx]\n",
    "    y = train_y[train_idx]\n",
    "    valid_x = train_x[val_idx]\n",
    "    valid_y = train_y[val_idx]\n",
    "\n",
    "    d_train= lgb.Dataset(X, y)\n",
    "    d_val  = lgb.Dataset(valid_x, valid_y)\n",
    "    \n",
    "    #run traning\n",
    "    model = lgb.train(\n",
    "                        params,\n",
    "                        train_set       = d_train,\n",
    "                        num_boost_round = 2000,\n",
    "                        valid_sets      = d_val,\n",
    "                        feval           = f_pr_auc,\n",
    "                        verbose_eval    = 200, \n",
    "                        early_stopping_rounds = 10\n",
    "                       )\n",
    "    \n",
    "    # cal valid prediction\n",
    "    valid_prob = model.predict(valid_x)\n",
    "    valid_pred = np.where(valid_prob > threshold, 1, 0)\n",
    "    \n",
    "    # cal scores\n",
    "    recall    = recall_score(    valid_y, valid_pred)\n",
    "    precision = precision_score( valid_y, valid_pred)\n",
    "    auc_score = roc_auc_score(   valid_y, valid_prob)\n",
    "\n",
    "    # append scores\n",
    "    models.append(model)\n",
    "    recalls.append(recall)\n",
    "    precisions.append(precision)\n",
    "    auc_scores.append(auc_score)\n",
    "\n",
    "    print('==========================================================')"
   ]
  },
  {
   "cell_type": "markdown",
   "metadata": {},
   "source": [
    "## 4. 교차 검증 점수 확인"
   ]
  },
  {
   "cell_type": "code",
   "execution_count": 30,
   "metadata": {},
   "outputs": [
    {
     "name": "stdout",
     "output_type": "stream",
     "text": [
      "0.7873375064848684\n"
     ]
    }
   ],
   "source": [
    "print(np.mean(auc_scores))"
   ]
  },
  {
   "cell_type": "markdown",
   "metadata": {},
   "source": [
    "## 5. 제출 파일 생성"
   ]
  },
  {
   "cell_type": "code",
   "execution_count": 31,
   "metadata": {},
   "outputs": [
    {
     "data": {
      "text/html": [
       "<div>\n",
       "<style scoped>\n",
       "    .dataframe tbody tr th:only-of-type {\n",
       "        vertical-align: middle;\n",
       "    }\n",
       "\n",
       "    .dataframe tbody tr th {\n",
       "        vertical-align: top;\n",
       "    }\n",
       "\n",
       "    .dataframe thead th {\n",
       "        text-align: right;\n",
       "    }\n",
       "</style>\n",
       "<table border=\"1\" class=\"dataframe\">\n",
       "  <thead>\n",
       "    <tr style=\"text-align: right;\">\n",
       "      <th></th>\n",
       "      <th>user_id</th>\n",
       "      <th>time</th>\n",
       "      <th>model_nm</th>\n",
       "      <th>fwver</th>\n",
       "      <th>errtype</th>\n",
       "      <th>errcode</th>\n",
       "    </tr>\n",
       "  </thead>\n",
       "  <tbody>\n",
       "    <tr>\n",
       "      <th>0</th>\n",
       "      <td>30000</td>\n",
       "      <td>20201101030227</td>\n",
       "      <td>model_1</td>\n",
       "      <td>04.16.3553</td>\n",
       "      <td>31</td>\n",
       "      <td>1</td>\n",
       "    </tr>\n",
       "    <tr>\n",
       "      <th>1</th>\n",
       "      <td>30000</td>\n",
       "      <td>20201101030227</td>\n",
       "      <td>model_1</td>\n",
       "      <td>04.16.3553</td>\n",
       "      <td>33</td>\n",
       "      <td>2</td>\n",
       "    </tr>\n",
       "    <tr>\n",
       "      <th>2</th>\n",
       "      <td>30000</td>\n",
       "      <td>20201101030228</td>\n",
       "      <td>model_1</td>\n",
       "      <td>04.16.3553</td>\n",
       "      <td>15</td>\n",
       "      <td>1</td>\n",
       "    </tr>\n",
       "    <tr>\n",
       "      <th>3</th>\n",
       "      <td>30000</td>\n",
       "      <td>20201101030256</td>\n",
       "      <td>model_1</td>\n",
       "      <td>04.16.3553</td>\n",
       "      <td>22</td>\n",
       "      <td>1</td>\n",
       "    </tr>\n",
       "    <tr>\n",
       "      <th>4</th>\n",
       "      <td>30000</td>\n",
       "      <td>20201101030300</td>\n",
       "      <td>model_1</td>\n",
       "      <td>04.16.3553</td>\n",
       "      <td>11</td>\n",
       "      <td>1</td>\n",
       "    </tr>\n",
       "  </tbody>\n",
       "</table>\n",
       "</div>"
      ],
      "text/plain": [
       "   user_id            time model_nm       fwver  errtype errcode\n",
       "0    30000  20201101030227  model_1  04.16.3553       31       1\n",
       "1    30000  20201101030227  model_1  04.16.3553       33       2\n",
       "2    30000  20201101030228  model_1  04.16.3553       15       1\n",
       "3    30000  20201101030256  model_1  04.16.3553       22       1\n",
       "4    30000  20201101030300  model_1  04.16.3553       11       1"
      ]
     },
     "metadata": {},
     "output_type": "display_data"
    }
   ],
   "source": [
    "test_err  = pd.read_csv(PATH+'test_err_data.csv')\n",
    "display(test_err.head())"
   ]
  },
  {
   "cell_type": "code",
   "execution_count": 32,
   "metadata": {},
   "outputs": [],
   "source": [
    "# 데이터 설명을 확인하면\n",
    "# test 데이터는 ueser_id가 30000부터 44998까지 총 14999개가 존재.\n",
    "test_user_id_max = 44998\n",
    "test_user_id_min = 30000\n",
    "test_user_number = 14999"
   ]
  },
  {
   "cell_type": "code",
   "execution_count": 33,
   "metadata": {},
   "outputs": [
    {
     "name": "stderr",
     "output_type": "stream",
     "text": [
      "100%|██████████| 16532648/16532648 [01:00<00:00, 272404.47it/s]"
     ]
    },
    {
     "name": "stdout",
     "output_type": "stream",
     "text": [
      "(14999, 42)\n"
     ]
    },
    {
     "name": "stderr",
     "output_type": "stream",
     "text": [
      "\n"
     ]
    }
   ],
   "source": [
    "id_error = test_err[['user_id','errtype']].values\n",
    "test_x = np.zeros((test_user_number,42))\n",
    "for person_idx, err in tqdm(id_error):\n",
    "    # person_idx - test_user_id_min 위치에 person_idx, errtype에 해당하는 error값을 +1\n",
    "    test_x[person_idx - test_user_id_min,err - 1] += 1\n",
    "test_x = test_x.reshape(test_x.shape[0],-1)\n",
    "print(test_x.shape)"
   ]
  },
  {
   "cell_type": "code",
   "execution_count": 34,
   "metadata": {},
   "outputs": [
    {
     "data": {
      "text/plain": [
       "array([[0.86304892],\n",
       "       [0.24459052],\n",
       "       [0.22640172],\n",
       "       ...,\n",
       "       [0.56576105],\n",
       "       [0.76814615],\n",
       "       [0.42601461]])"
      ]
     },
     "execution_count": 34,
     "metadata": {},
     "output_type": "execute_result"
    }
   ],
   "source": [
    "# 예측\n",
    "pred_y_list = []\n",
    "for model in models:\n",
    "    pred_y = model.predict(test_x)\n",
    "    pred_y_list.append(pred_y.reshape(-1,1))\n",
    "    \n",
    "pred_ensemble = np.mean(pred_y_list, axis = 0)\n",
    "\n",
    "pred_ensemble"
   ]
  },
  {
   "cell_type": "code",
   "execution_count": 35,
   "metadata": {},
   "outputs": [
    {
     "data": {
      "text/html": [
       "<div>\n",
       "<style scoped>\n",
       "    .dataframe tbody tr th:only-of-type {\n",
       "        vertical-align: middle;\n",
       "    }\n",
       "\n",
       "    .dataframe tbody tr th {\n",
       "        vertical-align: top;\n",
       "    }\n",
       "\n",
       "    .dataframe thead th {\n",
       "        text-align: right;\n",
       "    }\n",
       "</style>\n",
       "<table border=\"1\" class=\"dataframe\">\n",
       "  <thead>\n",
       "    <tr style=\"text-align: right;\">\n",
       "      <th></th>\n",
       "      <th>user_id</th>\n",
       "      <th>problem</th>\n",
       "    </tr>\n",
       "  </thead>\n",
       "  <tbody>\n",
       "    <tr>\n",
       "      <th>0</th>\n",
       "      <td>30000</td>\n",
       "      <td>0.863049</td>\n",
       "    </tr>\n",
       "    <tr>\n",
       "      <th>1</th>\n",
       "      <td>30001</td>\n",
       "      <td>0.244591</td>\n",
       "    </tr>\n",
       "    <tr>\n",
       "      <th>2</th>\n",
       "      <td>30002</td>\n",
       "      <td>0.226402</td>\n",
       "    </tr>\n",
       "    <tr>\n",
       "      <th>3</th>\n",
       "      <td>30003</td>\n",
       "      <td>0.791338</td>\n",
       "    </tr>\n",
       "    <tr>\n",
       "      <th>4</th>\n",
       "      <td>30004</td>\n",
       "      <td>0.735666</td>\n",
       "    </tr>\n",
       "    <tr>\n",
       "      <th>...</th>\n",
       "      <td>...</td>\n",
       "      <td>...</td>\n",
       "    </tr>\n",
       "    <tr>\n",
       "      <th>14994</th>\n",
       "      <td>44994</td>\n",
       "      <td>0.223210</td>\n",
       "    </tr>\n",
       "    <tr>\n",
       "      <th>14995</th>\n",
       "      <td>44995</td>\n",
       "      <td>0.381821</td>\n",
       "    </tr>\n",
       "    <tr>\n",
       "      <th>14996</th>\n",
       "      <td>44996</td>\n",
       "      <td>0.565761</td>\n",
       "    </tr>\n",
       "    <tr>\n",
       "      <th>14997</th>\n",
       "      <td>44997</td>\n",
       "      <td>0.768146</td>\n",
       "    </tr>\n",
       "    <tr>\n",
       "      <th>14998</th>\n",
       "      <td>44998</td>\n",
       "      <td>0.426015</td>\n",
       "    </tr>\n",
       "  </tbody>\n",
       "</table>\n",
       "<p>14999 rows × 2 columns</p>\n",
       "</div>"
      ],
      "text/plain": [
       "       user_id   problem\n",
       "0        30000  0.863049\n",
       "1        30001  0.244591\n",
       "2        30002  0.226402\n",
       "3        30003  0.791338\n",
       "4        30004  0.735666\n",
       "...        ...       ...\n",
       "14994    44994  0.223210\n",
       "14995    44995  0.381821\n",
       "14996    44996  0.565761\n",
       "14997    44997  0.768146\n",
       "14998    44998  0.426015\n",
       "\n",
       "[14999 rows x 2 columns]"
      ]
     },
     "execution_count": 35,
     "metadata": {},
     "output_type": "execute_result"
    }
   ],
   "source": [
    "sample_submssion = pd.read_csv(PATH+'sample_submission.csv')\n",
    "\n",
    "sample_submssion['problem'] = pred_ensemble.reshape(-1)\n",
    "\n",
    "sample_submssion.to_csv(\"dacon_baseline.csv\", index = False)\n",
    "sample_submssion"
   ]
  }
 ],
 "metadata": {
  "kernelspec": {
   "display_name": "Python 3",
   "language": "python",
   "name": "python3"
  },
  "language_info": {
   "codemirror_mode": {
    "name": "ipython",
    "version": 3
   },
   "file_extension": ".py",
   "mimetype": "text/x-python",
   "name": "python",
   "nbconvert_exporter": "python",
   "pygments_lexer": "ipython3",
   "version": "3.6.10"
  }
 },
 "nbformat": 4,
 "nbformat_minor": 4
}
