{
 "cells": [
  {
   "cell_type": "markdown",
   "metadata": {},
   "source": [
    "## 1. 라이브러리 가져오기\n",
    "## Import Library"
   ]
  },
  {
   "cell_type": "code",
   "execution_count": 1,
   "metadata": {},
   "outputs": [],
   "source": [
    "import pandas as pd\n",
    "import numpy as np\n",
    "import sklearn\n",
    "from sklearn.ensemble import RandomForestRegressor\n",
    "from sklearn.preprocessing import LabelEncoder\n",
    "\n",
    "import os\n",
    "from pathlib import Path"
   ]
  },
  {
   "cell_type": "markdown",
   "metadata": {},
   "source": [
    "## 2. 데이터 전처리\n",
    "## Data Cleansing & Pre-Processing  "
   ]
  },
  {
   "cell_type": "code",
   "execution_count": 2,
   "metadata": {},
   "outputs": [],
   "source": [
    "def grap_year(data):\n",
    "    data = str(data)\n",
    "    return int(data[:4])\n",
    "\n",
    "def grap_month(data):\n",
    "    data = str(data)\n",
    "    return int(data[4:])"
   ]
  },
  {
   "cell_type": "code",
   "execution_count": 3,
   "metadata": {},
   "outputs": [],
   "source": [
    "# 날짜 처리\n",
    "data = pd.read_csv('../../201901-202003.csv')\n",
    "# data = pd.read_csv('data/201901-202003.csv')\n",
    "# data = pd.read_csv(os.path.join(Path(self).resolve().parent, '201901-202003.csv')) \n",
    "data = data.fillna('')\n",
    "data['year'] = data['REG_YYMM'].apply(lambda x: grap_year(x))\n",
    "data['month'] = data['REG_YYMM'].apply(lambda x: grap_month(x))\n",
    "data = data.drop(['REG_YYMM'], axis=1)"
   ]
  },
  {
   "cell_type": "code",
   "execution_count": 4,
   "metadata": {},
   "outputs": [],
   "source": [
    "# data.head(5)"
   ]
  },
  {
   "cell_type": "code",
   "execution_count": 5,
   "metadata": {},
   "outputs": [],
   "source": [
    "# data.tail(5)"
   ]
  },
  {
   "cell_type": "code",
   "execution_count": 6,
   "metadata": {},
   "outputs": [],
   "source": [
    "# 데이터 정제 + 컬럼 추가\n",
    "\n",
    "'''\n",
    "# 추가해볼 만한 컬럼\n",
    "# 거주 지역과 결제 지역이 같으면 1, 다르면 0\n",
    "# CNT를 min max로 나눠서 10개 카테고리로 나눠서 해보기\n",
    "# 업종에 나이가 영향을 줄 수 있지 않을까\n",
    "# feature 상관분석, PCA 해보기\n",
    "'''\n",
    "\n",
    "df = data.copy()\n",
    "\n",
    "# 1. 계절 / 봄(1), 여름(2), 가을(3), 겨울(4)\n",
    "df.loc[(df['month']>=3)&(df['month']<=5) ,'season'] = 1\n",
    "df.loc[(df['month']>=6)&(df['month']<=8) ,'season'] = 2\n",
    "df.loc[(df['month']>=9)&(df['month']<=11) ,'season'] = 3\n",
    "df.loc[(df['month']>11),'season'] = 4\n",
    "df.loc[(df['month']<=2),'season'] = 4\n",
    "\n",
    "# df"
   ]
  },
  {
   "cell_type": "code",
   "execution_count": 7,
   "metadata": {},
   "outputs": [],
   "source": [
    "# 2. 거주(1) or 여행(0)\n",
    "df.loc[(df['CARD_SIDO_NM'] == df['HOM_SIDO_NM']), 'visitor'] = 1\n",
    "df.loc[(df['CARD_SIDO_NM'] != df['HOM_SIDO_NM']), 'visitor'] = 0\n",
    "\n",
    "# df"
   ]
  },
  {
   "cell_type": "code",
   "execution_count": 8,
   "metadata": {},
   "outputs": [],
   "source": [
    "# 3. 결제 건수 20개 범위로 나누기 \n",
    "df['CNT_Category'] = pd.cut(df['CNT'], 20, labels=False)\n",
    "\n",
    "# df\n",
    "\n",
    "# CNT 처리하기 위해 정리한 것\n",
    "# cut은 범위를 동일하게 자른 것, qcut은 범위 내에 들어오는 갯수가 동일하게 자른 것\n",
    "\n",
    "# print(max(df['CNT']))\n",
    "# print(min(df['CNT']))\n",
    "\n",
    "# df['CNT']\n",
    "\n",
    "# pd.cut(df['CNT'], 20, labels=False)\n",
    "\n",
    "# cnt_category = pd.qcut(df['CNT'], 20, labels=False)\n",
    "# print(cnt_category)\n",
    "# print(cnt_category[0])\n",
    "# print(cnt_category[1])\n",
    "# print(cnt_category[1057391])\n",
    "\n",
    "# cnt_category = pd.cut(df['CNT'], 20, labels=False)\n",
    "# print(max(cnt_category)) # 19\n",
    "# print(min(cnt_category)) # 0\n",
    "# print(len(df['CNT']))\n",
    "# print(cnt_category)"
   ]
  },
  {
   "cell_type": "code",
   "execution_count": 9,
   "metadata": {},
   "outputs": [],
   "source": [
    "# 4. 코로나\n",
    "covid = ['관광 민예품 및 선물용품 소매업','그외 기타 분류안된 오락관련 서비스업','그외 기타 스포츠시설 운영업','기타 대형 종합 소매업','기타 수상오락 서비스업','기타 외국식 음식점업','기타 주점업','내항 여객 운송업','마사지업','면세점','버스 운송업','비알콜 음료점업','서양식 음식점업','스포츠 및 레크레이션 용품 임대업','여관업','여행사업','욕탕업','일반유흥 주점업','일식 음식점업','자동차 임대업','전시 및 행사 대행업','정기 항공 운송업','중식 음식점업','차량용 가스 충전업','차량용 주유소 운영업','체인화 편의점','택시 운송업','피자 햄버거 샌드위치 및 유사 음식점업','한식 음식점업','호텔업','화장품 및 방향제 소매업','휴양콘도 운영업']\n",
    "df['covid'] = False\n",
    "for virus in covid:\n",
    "    df.loc[(df['STD_CLSS_NM'] == virus),'covid'] = True\n",
    "\n",
    "# df"
   ]
  },
  {
   "cell_type": "code",
   "execution_count": 21,
   "metadata": {},
   "outputs": [],
   "source": [
    "# 0. 컬럼 드랍\n",
    "df = df.drop(['CARD_CCG_NM', 'HOM_CCG_NM'], axis=1)\n",
    "\n",
    "# 0. 독립 변수 선정\n",
    "columns = ['CARD_SIDO_NM', 'STD_CLSS_NM', 'HOM_SIDO_NM', 'AGE', 'SEX_CTGO_CD', 'FLC', 'year', 'month', 'season', 'visitor', 'CNT_Category', 'covid']\n",
    "# 위에 총 12개 독립변수로 모델을 학습시켜본 뒤, 가장 영향 없는 4가지 삭제\n",
    "# temp 생성하는 부분에 부하를 줄이기 위해 4개(covid, SEX_CTGO_CD, visitor, FLC) 없이 진행\n",
    "# columns = ['CARD_SIDO_NM', 'STD_CLSS_NM', 'HOM_SIDO_NM', 'AGE', 'year', 'month', 'season', 'CNT_Category']\n",
    "\n",
    "df = df.groupby(columns).sum().reset_index(drop=False)"
   ]
  },
  {
   "cell_type": "code",
   "execution_count": 22,
   "metadata": {},
   "outputs": [],
   "source": [
    "# 인코딩\n",
    "dtypes = df.dtypes\n",
    "encoders = {}\n",
    "for column in df.columns:\n",
    "    if str(dtypes[column]) == 'object':\n",
    "        encoder = LabelEncoder()\n",
    "        encoder.fit(df[column])\n",
    "        encoders[column] = encoder\n",
    "        \n",
    "df_num = df.copy()        \n",
    "for column in encoders.keys():\n",
    "    encoder = encoders[column]\n",
    "    df_num[column] = encoder.transform(df[column])"
   ]
  },
  {
   "cell_type": "markdown",
   "metadata": {},
   "source": [
    "## 3. 탐색적 자료분석\n",
    "## Exploratory Data Analysis"
   ]
  },
  {
   "cell_type": "code",
   "execution_count": 26,
   "metadata": {},
   "outputs": [
    {
     "data": {
      "text/plain": [
       "'\\n# 시도 컬럼 수\\n\\nprint(len(data.CARD_SIDO_NM))\\n\\nsido = pd.Series.unique(data.CARD_SIDO_NM)\\nprint(len(sido))\\nprint(sido)\\n'"
      ]
     },
     "execution_count": 26,
     "metadata": {},
     "output_type": "execute_result"
    }
   ],
   "source": [
    "# # 시도 컬럼 수\n",
    "\n",
    "# print(len(data.CARD_SIDO_NM))\n",
    "\n",
    "# sido = pd.Series.unique(data.CARD_SIDO_NM)\n",
    "# print(len(sido))\n",
    "# print(sido)\n",
    "\n",
    "# # 시군구 컬럼 수\n",
    "\n",
    "# print(len(data.CARD_CCG_NM))\n",
    "\n",
    "# ccg = pd.Series.unique(data.CARD_CCG_NM)\n",
    "# print(len(ccg))\n",
    "# print(ccg)"
   ]
  },
  {
   "cell_type": "markdown",
   "metadata": {},
   "source": [
    "## 4. 변수 선택 및 모델 구축\n",
    "## Feature Engineering & Initial Modeling  "
   ]
  },
  {
   "cell_type": "code",
   "execution_count": 23,
   "metadata": {},
   "outputs": [],
   "source": [
    "# feature, target 설정\n",
    "train_num = df_num.sample(frac=1, random_state=0)\n",
    "train_features = train_num.drop(['CSTMR_CNT', 'AMT', 'CNT'], axis=1)\n",
    "train_target = np.log1p(train_num['AMT'])"
   ]
  },
  {
   "cell_type": "code",
   "execution_count": 24,
   "metadata": {},
   "outputs": [],
   "source": [
    "k = int(len(train_features)*0.9)\n",
    "\n",
    "x_train = train_features[:k]\n",
    "y_train = train_target[:k]\n",
    "x_val = train_features[k:]\n",
    "y_val = train_target[k:]"
   ]
  },
  {
   "cell_type": "markdown",
   "metadata": {},
   "source": [
    "## 5. 모델 학습 및 검증\n",
    "## Model Tuning & Evaluation"
   ]
  },
  {
   "cell_type": "code",
   "execution_count": 25,
   "metadata": {},
   "outputs": [],
   "source": [
    "import lightgbm as lgbm"
   ]
  },
  {
   "cell_type": "code",
   "execution_count": 26,
   "metadata": {},
   "outputs": [],
   "source": [
    "train_ds = lgbm.Dataset(x_train, label=y_train)\n",
    "val_ds = lgbm.Dataset(x_val, label=y_val)"
   ]
  },
  {
   "cell_type": "code",
   "execution_count": 27,
   "metadata": {},
   "outputs": [],
   "source": [
    "# 파라미터 종류 참고 : https://lightgbm.readthedocs.io/en/latest/Parameters.html\n",
    "# 파라미터 튜닝 참고 : https://greatjoy.tistory.com/72\n",
    "\n",
    "params = {\n",
    "            'learning_rate' : 0.01, # 일반적으로 0.01 ~ 0.1, 성능 높일 때 값 줄여서 진행\n",
    "            #'num_iterations' : 1000, # 디폴트는 100 / 너무 크게하면 과적합 발생 위험\n",
    "            # 'max_depth' : -1, # 디폴트는 -1 / 0 이하는 제한 없다는 뜻, featureure가 많으면 depth를 크게 가져가야 함\n",
    "            'boosting': 'gbdt', # 디포트는 gbdt / rf(RandomForest), dart(정확도 중요할 때 사용), goss(샘플링 이용)  / boosting, boosting_type, boost 다 같은 말\n",
    "            'objective': 'tweedie', # 디폴트는 regression / regression 종류 : regression_l1, huber, fair, poisson, quantile, mape, gamma, tweedie\n",
    "#             'objective': 'multiclass', # 멀티 클래스로 지정\n",
    "#             'num_class': 41, # 클래스 수는 업종 수인 41개로 지정\n",
    "            'tweedie_variance_power': 1.1,\n",
    "#             'metric': 'softmax',\n",
    "            'metric': 'custom',\n",
    "            'sub_row' : 0.75,\n",
    "            'lambda_l2' : 0.1 # 정규화로 과적합 방지 / 정확도 저하될 수 있기 떄문에 일반적으로는 default 0 그대로 유지\n",
    "        }"
   ]
  },
  {
   "cell_type": "code",
   "execution_count": 28,
   "metadata": {},
   "outputs": [],
   "source": [
    "def rmsle_1(y_pred, data):\n",
    "    y_true = np.array(data.get_label())\n",
    "    score= np.sqrt(np.square(np.log1p(y_pred + 1) - np.log1p(y_true + 1)).mean())\n",
    "    return 'rmsle', score, False"
   ]
  },
  {
   "cell_type": "code",
   "execution_count": 30,
   "metadata": {},
   "outputs": [
    {
     "name": "stdout",
     "output_type": "stream",
     "text": [
      "Training until validation scores don't improve for 1000 rounds\n",
      "[1000]\tvalid_0's rmsle: 0.0409914\n",
      "[2000]\tvalid_0's rmsle: 0.0380118\n",
      "[3000]\tvalid_0's rmsle: 0.0365958\n",
      "[4000]\tvalid_0's rmsle: 0.0357593\n",
      "[5000]\tvalid_0's rmsle: 0.0351403\n",
      "[6000]\tvalid_0's rmsle: 0.034699\n",
      "[7000]\tvalid_0's rmsle: 0.0343397\n",
      "[8000]\tvalid_0's rmsle: 0.0340298\n",
      "[9000]\tvalid_0's rmsle: 0.0337892\n",
      "[10000]\tvalid_0's rmsle: 0.0335522\n",
      "[11000]\tvalid_0's rmsle: 0.0333798\n",
      "[12000]\tvalid_0's rmsle: 0.0332049\n",
      "[13000]\tvalid_0's rmsle: 0.0330556\n",
      "[14000]\tvalid_0's rmsle: 0.0329392\n",
      "[15000]\tvalid_0's rmsle: 0.0328403\n",
      "[16000]\tvalid_0's rmsle: 0.0327092\n",
      "[17000]\tvalid_0's rmsle: 0.0325985\n",
      "[18000]\tvalid_0's rmsle: 0.032464\n",
      "[19000]\tvalid_0's rmsle: 0.0323469\n",
      "[20000]\tvalid_0's rmsle: 0.0322602\n",
      "Did not meet early stopping. Best iteration is:\n",
      "[20000]\tvalid_0's rmsle: 0.0322602\n"
     ]
    }
   ],
   "source": [
    "# 훈련\n",
    "model = lgbm.train(params,\n",
    "                   train_ds,\n",
    "                   20000,\n",
    "                   val_ds,\n",
    "                   verbose_eval = 1000,\n",
    "                   early_stopping_rounds = 1000,\n",
    "                   feval = rmsle_1\n",
    "                 )"
   ]
  },
  {
   "cell_type": "code",
   "execution_count": 33,
   "metadata": {},
   "outputs": [
    {
     "data": {
      "text/plain": [
       "<matplotlib.axes._subplots.AxesSubplot at 0x251148733c8>"
      ]
     },
     "execution_count": 33,
     "metadata": {},
     "output_type": "execute_result"
    },
    {
     "data": {
      "image/png": "[encoded data removed]",
      "text/plain": [
       "<Figure size 720x720 with 1 Axes>"
      ]
     },
     "metadata": {
      "needs_background": "light"
     },
     "output_type": "display_data"
    }
   ],
   "source": [
    "# Feature 비중 확인 feat. KMH\n",
    "\n",
    "feature_names =  ['CARD_SIDO_NM', 'STD_CLSS_NM', 'HOM_SIDO_NM', 'AGE', 'SEX_CTGO_CD', 'FLC', 'year', 'month', 'season', 'visitor', 'CNT_Category', 'covid']\n",
    "# 먼저 12개의 독립변수의 비중을 확인해본 후, 낮은 변수들은 삭제\n",
    "\n",
    "index = np.arange(len(feature_names))\n",
    "\n",
    "import matplotlib.pyplot as plt\n",
    "from lightgbm import plot_importance\n",
    "%matplotlib inline\n",
    "\n",
    "f, ax = plt.subplots(figsize=(10, 10))\n",
    "plot_importance(model, max_num_features=12, ax=ax)"
   ]
  },
  {
   "cell_type": "code",
   "execution_count": null,
   "metadata": {},
   "outputs": [],
   "source": [
    "''' \n",
    "# 참고 : https://injo.tistory.com/48\n",
    "# 참고 : https://www.kaggle.com/ashishpatel26/feature-importance-of-lightgbm\n",
    "# 참고 : https://lightgbm.readthedocs.io/en/latest/pythonapi/lightgbm.plot_importance.html\n",
    "\n",
    "feature_names = ['CARD_SIDO_NM', 'STD_CLSS_NM', 'HOM_SIDO_NM', 'AGE', 'SEX_CTGO_CD', 'FLC', 'year', 'month']\n",
    "index = np.arange(len(feature_names))\n",
    "\n",
    "import matplotlib.pyplot as plt\n",
    "\n",
    "plt.barh(index, model.feature_importances_, align='center')\n",
    "plt.yticks(index, feature_names)\n",
    "plt.ylim(-1, len(feature_names))\n",
    "plt.xlabel('feature importance', size=15)\n",
    "plt.ylabel('feature', size=15)\n",
    "plt.show()\n",
    "'''"
   ]
  },
  {
   "cell_type": "code",
   "execution_count": 1,
   "metadata": {},
   "outputs": [
    {
     "name": "stderr",
     "output_type": "stream",
     "text": [
      "C:\\Users\\hande\\Anaconda3\\lib\\site-packages\\sklearn\\externals\\joblib\\__init__.py:15: FutureWarning: sklearn.externals.joblib is deprecated in 0.21 and will be removed in 0.23. Please import this functionality directly from joblib, which can be installed with: pip install joblib. If this warning is raised when loading pickled models, you may need to re-serialize those models with scikit-learn 0.21+.\n",
      "  warnings.warn(msg, category=FutureWarning)\n"
     ]
    },
    {
     "ename": "NameError",
     "evalue": "name 'model' is not defined",
     "output_type": "error",
     "traceback": [
      "\u001b[1;31m---------------------------------------------------------------------------\u001b[0m",
      "\u001b[1;31mNameError\u001b[0m                                 Traceback (most recent call last)",
      "\u001b[1;32m<ipython-input-1-78add8815663>\u001b[0m in \u001b[0;36m<module>\u001b[1;34m\u001b[0m\n\u001b[0;32m      2\u001b[0m \u001b[1;32mfrom\u001b[0m \u001b[0msklearn\u001b[0m\u001b[1;33m.\u001b[0m\u001b[0mexternals\u001b[0m \u001b[1;32mimport\u001b[0m \u001b[0mjoblib\u001b[0m\u001b[1;33m\u001b[0m\u001b[1;33m\u001b[0m\u001b[0m\n\u001b[0;32m      3\u001b[0m \u001b[1;33m\u001b[0m\u001b[0m\n\u001b[1;32m----> 4\u001b[1;33m \u001b[0mjoblib\u001b[0m\u001b[1;33m.\u001b[0m\u001b[0mdump\u001b[0m\u001b[1;33m(\u001b[0m\u001b[0mmodel\u001b[0m\u001b[1;33m,\u001b[0m \u001b[1;34m'lgbm_gbdt_tweedie_1000epochs.pkl'\u001b[0m\u001b[1;33m)\u001b[0m\u001b[1;33m\u001b[0m\u001b[1;33m\u001b[0m\u001b[0m\n\u001b[0m",
      "\u001b[1;31mNameError\u001b[0m: name 'model' is not defined"
     ]
    }
   ],
   "source": [
    "'''\n",
    "# Model Save\n",
    "from sklearn.externals import joblib\n",
    "joblib.dump(model, 'lgbm_gbdt_tweedie_1000epochs.pkl')\n",
    "\n",
    "# Model Load\n",
    "load_model = joblib.load('lgbm_dart_multiclass(41)_1000epochs.pkl')\n",
    "'''"
   ]
  },
  {
   "cell_type": "markdown",
   "metadata": {},
   "source": [
    "## 6. 결과 및 결언\n",
    "## Conclusion & Discussion"
   ]
  },
  {
   "cell_type": "code",
   "execution_count": 22,
   "metadata": {},
   "outputs": [
    {
     "ename": "MemoryError",
     "evalue": "",
     "output_type": "error",
     "traceback": [
      "\u001b[1;31m---------------------------------------------------------------------------\u001b[0m",
      "\u001b[1;31mMemoryError\u001b[0m                               Traceback (most recent call last)",
      "\u001b[1;32m<ipython-input-22-02b9b27b39e3>\u001b[0m in \u001b[0;36m<module>\u001b[1;34m\u001b[0m\n\u001b[0;32m     26\u001b[0m                                     \u001b[1;32mfor\u001b[0m \u001b[0myear\u001b[0m \u001b[1;32min\u001b[0m \u001b[0myears\u001b[0m\u001b[1;33m:\u001b[0m\u001b[1;33m\u001b[0m\u001b[1;33m\u001b[0m\u001b[0m\n\u001b[0;32m     27\u001b[0m                                         \u001b[1;32mfor\u001b[0m \u001b[0mmonth\u001b[0m \u001b[1;32min\u001b[0m \u001b[0mmonths\u001b[0m\u001b[1;33m:\u001b[0m\u001b[1;33m\u001b[0m\u001b[1;33m\u001b[0m\u001b[0m\n\u001b[1;32m---> 28\u001b[1;33m                                             \u001b[0mtemp\u001b[0m\u001b[1;33m.\u001b[0m\u001b[0mappend\u001b[0m\u001b[1;33m(\u001b[0m\u001b[1;33m[\u001b[0m\u001b[0mCARD_SIDO_NM\u001b[0m\u001b[1;33m,\u001b[0m \u001b[0mSTD_CLSS_NM\u001b[0m\u001b[1;33m,\u001b[0m \u001b[0mHOM_SIDO_NM\u001b[0m\u001b[1;33m,\u001b[0m \u001b[0mAGE\u001b[0m\u001b[1;33m,\u001b[0m \u001b[0mSEX_CTGO_CD\u001b[0m\u001b[1;33m,\u001b[0m \u001b[0mseason\u001b[0m\u001b[1;33m,\u001b[0m \u001b[0mvisitor\u001b[0m\u001b[1;33m,\u001b[0m \u001b[0mCNT_Category\u001b[0m\u001b[1;33m,\u001b[0m \u001b[0mcovid\u001b[0m\u001b[1;33m,\u001b[0m \u001b[0myear\u001b[0m\u001b[1;33m,\u001b[0m \u001b[0mmonth\u001b[0m\u001b[1;33m]\u001b[0m\u001b[1;33m)\u001b[0m\u001b[1;33m\u001b[0m\u001b[1;33m\u001b[0m\u001b[0m\n\u001b[0m\u001b[0;32m     29\u001b[0m \u001b[1;33m\u001b[0m\u001b[0m\n\u001b[0;32m     30\u001b[0m \u001b[0mtemp\u001b[0m \u001b[1;33m=\u001b[0m \u001b[0mnp\u001b[0m\u001b[1;33m.\u001b[0m\u001b[0marray\u001b[0m\u001b[1;33m(\u001b[0m\u001b[0mtemp\u001b[0m\u001b[1;33m)\u001b[0m\u001b[1;33m\u001b[0m\u001b[1;33m\u001b[0m\u001b[0m\n",
      "\u001b[1;31mMemoryError\u001b[0m: "
     ]
    }
   ],
   "source": [
    "# 예측 템플릿 만들기\n",
    "CARD_SIDO_NMs = df_num['CARD_SIDO_NM'].unique()\n",
    "STD_CLSS_NMs  = df_num['STD_CLSS_NM'].unique()\n",
    "#HOM_SIDO_NMs  = df_num['HOM_SIDO_NM'].unique()\n",
    "AGEs          = df_num['AGE'].unique()\n",
    "SEX_CTGO_CDs  = df_num['SEX_CTGO_CD'].unique()\n",
    "#FLCs          = df_num['FLC'].unique()\n",
    "seasons       = df_num['season'].unique()\n",
    "visitors      = df_num['visitor'].unique()\n",
    "CNT_Categories= df_num['CNT_Category'].unique()\n",
    "covids        = df_num['covid'].unique()\n",
    "years         = [2020]\n",
    "months        = [4, 7]\n",
    "\n",
    "temp = []\n",
    "for CARD_SIDO_NM in CARD_SIDO_NMs:\n",
    "    for STD_CLSS_NM in STD_CLSS_NMs:\n",
    "        #for HOM_SIDO_NM in HOM_SIDO_NMs:\n",
    "        for AGE in AGEs:\n",
    "            for SEX_CTGO_CD in SEX_CTGO_CDs:\n",
    "                #for FLC in FLCs:\n",
    "                for season in seasons:\n",
    "                    for visitor in visitors:\n",
    "                        for CNT_Category in CNT_Categories:\n",
    "                            for covid in covids:\n",
    "                                for year in years:\n",
    "                                    for month in months:\n",
    "                                        temp.append([CARD_SIDO_NM, STD_CLSS_NM, AGE, SEX_CTGO_CD, season, visitor, CNT_Category, covid, year, month])\n",
    "\n",
    "temp = np.array(temp)\n",
    "temp = pd.DataFrame(data=temp, columns=train_features.columns)"
   ]
  },
  {
   "cell_type": "code",
   "execution_count": null,
   "metadata": {},
   "outputs": [],
   "source": [
    "# 예측\n",
    "pred = model.predict(temp)\n",
    "pred = np.expm1(pred)\n",
    "temp['AMT'] = np.round(pred, 0)\n",
    "temp['REG_YYMM'] = temp['year']*100 + temp['month']\n",
    "temp = temp[['REG_YYMM', 'CARD_SIDO_NM', 'STD_CLSS_NM', 'AMT']]\n",
    "temp = temp.groupby(['REG_YYMM', 'CARD_SIDO_NM', 'STD_CLSS_NM']).sum().reset_index(drop=False)"
   ]
  },
  {
   "cell_type": "code",
   "execution_count": null,
   "metadata": {},
   "outputs": [],
   "source": [
    "# 디코딩 \n",
    "temp['CARD_SIDO_NM'] = encoders['CARD_SIDO_NM'].inverse_transform(temp['CARD_SIDO_NM'])\n",
    "temp['STD_CLSS_NM'] = encoders['STD_CLSS_NM'].inverse_transform(temp['STD_CLSS_NM'])"
   ]
  },
  {
   "cell_type": "code",
   "execution_count": null,
   "metadata": {},
   "outputs": [],
   "source": [
    "# 제출 파일 만들기\n",
    "submission = pd.read_csv('data/submission.csv', index_col=0)\n",
    "submission = submission.drop(['AMT'], axis=1)\n",
    "submission = submission.merge(temp, left_on=['REG_YYMM', 'CARD_SIDO_NM', 'STD_CLSS_NM'], right_on=['REG_YYMM', 'CARD_SIDO_NM', 'STD_CLSS_NM'], how='left')\n",
    "submission.index.name = 'id'\n",
    "submission.to_csv('HDLY_0717.csv', encoding='utf-8-sig')\n",
    "submission.head()"
   ]
  }
 ],
 "metadata": {
  "kernelspec": {
   "display_name": "Python 3",
   "language": "python",
   "name": "python3"
  },
  "language_info": {
   "codemirror_mode": {
    "name": "ipython",
    "version": 3
   },
   "file_extension": ".py",
   "mimetype": "text/x-python",
   "name": "python",
   "nbconvert_exporter": "python",
   "pygments_lexer": "ipython3",
   "version": "3.6.10"
  }
 },
 "nbformat": 4,
 "nbformat_minor": 4
}
